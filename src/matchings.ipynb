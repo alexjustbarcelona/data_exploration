{
 "cells": [
  {
   "cell_type": "code",
   "execution_count": 27,
   "metadata": {},
   "outputs": [],
   "source": [
    "import pandas as pd\n",
    "import numpy as np\n",
    "from matplotlib import pyplot as plt\n",
    "from mpl_toolkits.axes_grid1 import make_axes_locatable\n",
    "plt.style.use(\"ggplot\")"
   ]
  },
  {
   "cell_type": "code",
   "execution_count": 28,
   "metadata": {},
   "outputs": [],
   "source": [
    "DATA_PATH = '../data/'\n",
    "matchings = pd.read_csv(DATA_PATH + 'final_matchings.csv')"
   ]
  },
  {
   "cell_type": "code",
   "execution_count": 29,
   "metadata": {},
   "outputs": [
    {
     "data": {
      "text/html": [
       "<div>\n",
       "<style scoped>\n",
       "    .dataframe tbody tr th:only-of-type {\n",
       "        vertical-align: middle;\n",
       "    }\n",
       "\n",
       "    .dataframe tbody tr th {\n",
       "        vertical-align: top;\n",
       "    }\n",
       "\n",
       "    .dataframe thead th {\n",
       "        text-align: right;\n",
       "    }\n",
       "</style>\n",
       "<table border=\"1\" class=\"dataframe\">\n",
       "  <thead>\n",
       "    <tr style=\"text-align: right;\">\n",
       "      <th></th>\n",
       "      <th>Client_id</th>\n",
       "      <th>Hash</th>\n",
       "      <th>Prob_cond_client</th>\n",
       "      <th>Prob_cond_hash</th>\n",
       "    </tr>\n",
       "  </thead>\n",
       "  <tbody>\n",
       "    <tr>\n",
       "      <th>0</th>\n",
       "      <td>22</td>\n",
       "      <td>555179529769684</td>\n",
       "      <td>1.0000</td>\n",
       "      <td>1.000000</td>\n",
       "    </tr>\n",
       "    <tr>\n",
       "      <th>1</th>\n",
       "      <td>157640</td>\n",
       "      <td>392346305629129</td>\n",
       "      <td>0.8125</td>\n",
       "      <td>0.722222</td>\n",
       "    </tr>\n",
       "    <tr>\n",
       "      <th>2</th>\n",
       "      <td>417994</td>\n",
       "      <td>295184210409095</td>\n",
       "      <td>1.0000</td>\n",
       "      <td>0.342857</td>\n",
       "    </tr>\n",
       "    <tr>\n",
       "      <th>3</th>\n",
       "      <td>486068</td>\n",
       "      <td>555123579189935</td>\n",
       "      <td>1.0000</td>\n",
       "      <td>0.666667</td>\n",
       "    </tr>\n",
       "    <tr>\n",
       "      <th>4</th>\n",
       "      <td>178822</td>\n",
       "      <td>471566460460121</td>\n",
       "      <td>1.0000</td>\n",
       "      <td>1.000000</td>\n",
       "    </tr>\n",
       "  </tbody>\n",
       "</table>\n",
       "</div>"
      ],
      "text/plain": [
       "   Client_id             Hash  Prob_cond_client  Prob_cond_hash\n",
       "0         22  555179529769684            1.0000        1.000000\n",
       "1     157640  392346305629129            0.8125        0.722222\n",
       "2     417994  295184210409095            1.0000        0.342857\n",
       "3     486068  555123579189935            1.0000        0.666667\n",
       "4     178822  471566460460121            1.0000        1.000000"
      ]
     },
     "execution_count": 29,
     "metadata": {},
     "output_type": "execute_result"
    }
   ],
   "source": [
    "matchings.head()"
   ]
  },
  {
   "cell_type": "code",
   "execution_count": 30,
   "metadata": {},
   "outputs": [],
   "source": [
    "def CountUniques(df):\n",
    "    n_unique = {}\n",
    "    pct_unique = {}\n",
    "    rows = len(df)\n",
    "    for i in range(df.shape[1]):\n",
    "        col = df.columns[i]\n",
    "        n_unique[col] = df[col].nunique()\n",
    "        pct_unique[col] = n_unique[col] / rows\n",
    "    f = pd.DataFrame([n_unique, pct_unique], index = ['n_unique','pct_unique']).transpose()\n",
    "    f['n_unique'] = f['n_unique'].astype(int)\n",
    "    return f"
   ]
  },
  {
   "cell_type": "code",
   "execution_count": 31,
   "metadata": {},
   "outputs": [
    {
     "data": {
      "text/html": [
       "<div>\n",
       "<style scoped>\n",
       "    .dataframe tbody tr th:only-of-type {\n",
       "        vertical-align: middle;\n",
       "    }\n",
       "\n",
       "    .dataframe tbody tr th {\n",
       "        vertical-align: top;\n",
       "    }\n",
       "\n",
       "    .dataframe thead th {\n",
       "        text-align: right;\n",
       "    }\n",
       "</style>\n",
       "<table border=\"1\" class=\"dataframe\">\n",
       "  <thead>\n",
       "    <tr style=\"text-align: right;\">\n",
       "      <th></th>\n",
       "      <th>n_unique</th>\n",
       "      <th>pct_unique</th>\n",
       "    </tr>\n",
       "  </thead>\n",
       "  <tbody>\n",
       "    <tr>\n",
       "      <th>Client_id</th>\n",
       "      <td>12011</td>\n",
       "      <td>1.000000</td>\n",
       "    </tr>\n",
       "    <tr>\n",
       "      <th>Hash</th>\n",
       "      <td>12011</td>\n",
       "      <td>1.000000</td>\n",
       "    </tr>\n",
       "    <tr>\n",
       "      <th>Prob_cond_client</th>\n",
       "      <td>50</td>\n",
       "      <td>0.004163</td>\n",
       "    </tr>\n",
       "    <tr>\n",
       "      <th>Prob_cond_hash</th>\n",
       "      <td>169</td>\n",
       "      <td>0.014070</td>\n",
       "    </tr>\n",
       "  </tbody>\n",
       "</table>\n",
       "</div>"
      ],
      "text/plain": [
       "                  n_unique  pct_unique\n",
       "Client_id            12011    1.000000\n",
       "Hash                 12011    1.000000\n",
       "Prob_cond_client        50    0.004163\n",
       "Prob_cond_hash         169    0.014070"
      ]
     },
     "execution_count": 31,
     "metadata": {},
     "output_type": "execute_result"
    }
   ],
   "source": [
    "CountUniques(matchings)"
   ]
  },
  {
   "cell_type": "code",
   "execution_count": 32,
   "metadata": {},
   "outputs": [
    {
     "data": {
      "text/html": [
       "<div>\n",
       "<style scoped>\n",
       "    .dataframe tbody tr th:only-of-type {\n",
       "        vertical-align: middle;\n",
       "    }\n",
       "\n",
       "    .dataframe tbody tr th {\n",
       "        vertical-align: top;\n",
       "    }\n",
       "\n",
       "    .dataframe thead th {\n",
       "        text-align: right;\n",
       "    }\n",
       "</style>\n",
       "<table border=\"1\" class=\"dataframe\">\n",
       "  <thead>\n",
       "    <tr style=\"text-align: right;\">\n",
       "      <th></th>\n",
       "      <th>Client_id</th>\n",
       "      <th>Hash</th>\n",
       "      <th>Prob_cond_client</th>\n",
       "      <th>Prob_cond_hash</th>\n",
       "    </tr>\n",
       "  </thead>\n",
       "  <tbody>\n",
       "    <tr>\n",
       "      <th>0</th>\n",
       "      <td>22</td>\n",
       "      <td>555179529769684</td>\n",
       "      <td>1.000000</td>\n",
       "      <td>1.000000</td>\n",
       "    </tr>\n",
       "    <tr>\n",
       "      <th>1</th>\n",
       "      <td>157640</td>\n",
       "      <td>392346305629129</td>\n",
       "      <td>0.812500</td>\n",
       "      <td>0.722222</td>\n",
       "    </tr>\n",
       "    <tr>\n",
       "      <th>2</th>\n",
       "      <td>417994</td>\n",
       "      <td>295184210409095</td>\n",
       "      <td>1.000000</td>\n",
       "      <td>0.342857</td>\n",
       "    </tr>\n",
       "    <tr>\n",
       "      <th>3</th>\n",
       "      <td>486068</td>\n",
       "      <td>555123579189935</td>\n",
       "      <td>1.000000</td>\n",
       "      <td>0.666667</td>\n",
       "    </tr>\n",
       "    <tr>\n",
       "      <th>4</th>\n",
       "      <td>178822</td>\n",
       "      <td>471566460460121</td>\n",
       "      <td>1.000000</td>\n",
       "      <td>1.000000</td>\n",
       "    </tr>\n",
       "    <tr>\n",
       "      <th>...</th>\n",
       "      <td>...</td>\n",
       "      <td>...</td>\n",
       "      <td>...</td>\n",
       "      <td>...</td>\n",
       "    </tr>\n",
       "    <tr>\n",
       "      <th>12006</th>\n",
       "      <td>733210</td>\n",
       "      <td>511015395185094</td>\n",
       "      <td>0.166667</td>\n",
       "      <td>1.000000</td>\n",
       "    </tr>\n",
       "    <tr>\n",
       "      <th>12007</th>\n",
       "      <td>650238</td>\n",
       "      <td>282444792929272</td>\n",
       "      <td>0.166667</td>\n",
       "      <td>0.500000</td>\n",
       "    </tr>\n",
       "    <tr>\n",
       "      <th>12008</th>\n",
       "      <td>686726</td>\n",
       "      <td>316669456819125</td>\n",
       "      <td>0.200000</td>\n",
       "      <td>1.000000</td>\n",
       "    </tr>\n",
       "    <tr>\n",
       "      <th>12009</th>\n",
       "      <td>68465</td>\n",
       "      <td>440700464797077</td>\n",
       "      <td>0.142857</td>\n",
       "      <td>1.000000</td>\n",
       "    </tr>\n",
       "    <tr>\n",
       "      <th>12010</th>\n",
       "      <td>720578</td>\n",
       "      <td>387421582910129</td>\n",
       "      <td>0.047619</td>\n",
       "      <td>1.000000</td>\n",
       "    </tr>\n",
       "  </tbody>\n",
       "</table>\n",
       "<p>12011 rows × 4 columns</p>\n",
       "</div>"
      ],
      "text/plain": [
       "       Client_id             Hash  Prob_cond_client  Prob_cond_hash\n",
       "0             22  555179529769684          1.000000        1.000000\n",
       "1         157640  392346305629129          0.812500        0.722222\n",
       "2         417994  295184210409095          1.000000        0.342857\n",
       "3         486068  555123579189935          1.000000        0.666667\n",
       "4         178822  471566460460121          1.000000        1.000000\n",
       "...          ...              ...               ...             ...\n",
       "12006     733210  511015395185094          0.166667        1.000000\n",
       "12007     650238  282444792929272          0.166667        0.500000\n",
       "12008     686726  316669456819125          0.200000        1.000000\n",
       "12009      68465  440700464797077          0.142857        1.000000\n",
       "12010     720578  387421582910129          0.047619        1.000000\n",
       "\n",
       "[12011 rows x 4 columns]"
      ]
     },
     "execution_count": 32,
     "metadata": {},
     "output_type": "execute_result"
    }
   ],
   "source": [
    "matchings"
   ]
  },
  {
   "cell_type": "code",
   "execution_count": 33,
   "metadata": {},
   "outputs": [],
   "source": [
    "x = matchings['Prob_cond_client']\n",
    "y = matchings['Prob_cond_hash']"
   ]
  },
  {
   "cell_type": "code",
   "execution_count": 34,
   "metadata": {},
   "outputs": [
    {
     "data": {
      "image/png": "[encoded data removed]",
      "text/plain": [
       "<matplotlib.figure.Figure at 0x1155dd198>"
      ]
     },
     "metadata": {},
     "output_type": "display_data"
    }
   ],
   "source": [
    "fig, axScatter = plt.subplots(figsize=(20, 10))\n",
    "\n",
    "# the scatter plot:\n",
    "axScatter.scatter(x, y)\n",
    "axScatter.set_aspect(1.)\n",
    "axScatter.scatter(x, y)\n",
    "\n",
    "# create new axes on the right and on the top of the current axes\n",
    "# The first argument of the new_vertical(new_horizontal) method is\n",
    "# the height (width) of the axes to be created in inches.\n",
    "divider = make_axes_locatable(axScatter)\n",
    "axHistx = divider.append_axes(\"top\", 2, pad=0.1, sharex=axScatter)\n",
    "axHisty = divider.append_axes(\"right\", 2, pad=0.1, sharey=axScatter)\n",
    "\n",
    "# make some labels invisible\n",
    "axHistx.xaxis.set_tick_params(labelbottom=False)\n",
    "axHisty.yaxis.set_tick_params(labelleft=False)\n",
    "\n",
    "# now determine nice limits by hand:\n",
    "binwidth = 0.25\n",
    "xymax = max(np.max(np.abs(x)), np.max(np.abs(y)))\n",
    "lim = (int(xymax/binwidth) + 1)*binwidth\n",
    "\n",
    "bins = np.arange(0, xymax, binwidth)\n",
    "axHistx.hist(x, bins=10)\n",
    "axHisty.hist(y, bins=10, orientation='horizontal')\n",
    "\n",
    "# the xaxis of axHistx and yaxis of axHisty are shared with axScatter,\n",
    "# thus there is no need to manually adjust the xlim and ylim of these\n",
    "# axis.\n",
    "\n",
    "\n",
    "\n",
    "plt.show()"
   ]
  },
  {
   "cell_type": "code",
   "execution_count": 35,
   "metadata": {},
   "outputs": [],
   "source": [
    "# now determine nice limits by hand:\n",
    "binwidth = 0.25\n",
    "xymax = max(np.max(np.abs(x)), np.max(np.abs(y)))\n",
    "lim = (int(xymax/binwidth) + 1)*binwidth\n"
   ]
  },
  {
   "cell_type": "code",
   "execution_count": 36,
   "metadata": {},
   "outputs": [
    {
     "data": {
      "image/png": "[encoded data removed]",
      "text/plain": [
       "<matplotlib.figure.Figure at 0x115c2cf98>"
      ]
     },
     "metadata": {},
     "output_type": "display_data"
    }
   ],
   "source": [
    "\n",
    "fig, axScatter = plt.subplots(figsize=(5.5, 5.5))\n",
    "\n",
    "# the scatter plot:\n",
    "axScatter.scatter(x, y)\n",
    "axScatter.set_aspect(1.)\n",
    "\n",
    "# create new axes on the right and on the top of the current axes\n",
    "# The first argument of the new_vertical(new_horizontal) method is\n",
    "# the height (width) of the axes to be created in inches.\n",
    "divider = make_axes_locatable(axScatter)\n",
    "axHistx = divider.append_axes(\"top\", 1.2, pad=0.1, sharex=axScatter)\n",
    "axHisty = divider.append_axes(\"right\", 1.2, pad=0.1, sharey=axScatter)\n",
    "\n",
    "# make some labels invisible\n",
    "axHistx.xaxis.set_tick_params(labelbottom=False)\n",
    "axHisty.yaxis.set_tick_params(labelleft=False)\n",
    "\n",
    "# now determine nice limits by hand:\n",
    "binwidth = 0.25\n",
    "xymax = max(np.max(np.abs(x)), np.max(np.abs(y)))\n",
    "lim = (int(xymax/binwidth) + 1)*binwidth\n",
    "\n",
    "bins = np.arange(-lim, lim + binwidth, binwidth)\n",
    "axHistx.hist(x, bins=bins)\n",
    "axHisty.hist(y, bins=bins, orientation='horizontal')\n",
    "\n",
    "# the xaxis of axHistx and yaxis of axHisty are shared with axScatter,\n",
    "# thus there is no need to manually adjust the xlim and ylim of these\n",
    "# axis.\n",
    "\n",
    "axHistx.set_yticks([0, 50, 100])\n",
    "\n",
    "axHisty.set_xticks([0, 50, 100])\n",
    "\n",
    "plt.show()"
   ]
  },
  {
   "cell_type": "code",
   "execution_count": null,
   "metadata": {},
   "outputs": [],
   "source": []
  }
 ],
 "metadata": {
  "kernelspec": {
   "display_name": "Python 3",
   "language": "python",
   "name": "python3"
  },
  "language_info": {
   "codemirror_mode": {
    "name": "ipython",
    "version": 3
   },
   "file_extension": ".py",
   "mimetype": "text/x-python",
   "name": "python",
   "nbconvert_exporter": "python",
   "pygments_lexer": "ipython3",
   "version": "3.6.2"
  }
 },
 "nbformat": 4,
 "nbformat_minor": 4
}
